{
  "nbformat": 4,
  "nbformat_minor": 0,
  "metadata": {
    "colab": {
      "name": "MTI805_HTR.ipynb",
      "provenance": [],
      "collapsed_sections": [],
      "toc_visible": true
    },
    "kernelspec": {
      "name": "python3",
      "display_name": "Python 3"
    },
    "language_info": {
      "name": "python"
    },
    "accelerator": "GPU"
  },
  "cells": [
    {
      "cell_type": "markdown",
      "source": [
        "from: https://medium.com/analytics-vidhya/lenet-with-tensorflow-a35da0d503df"
      ],
      "metadata": {
        "id": "xRSMxnXqZV4v"
      }
    },
    {
      "cell_type": "code",
      "source": [
        "!pip install extra-keras-datasets"
      ],
      "metadata": {
        "colab": {
          "base_uri": "https://localhost:8080/"
        },
        "id": "K3aZs397k1yn",
        "outputId": "7fd6c2d4-1a02-4062-c395-192c3b7b9a86"
      },
      "execution_count": null,
      "outputs": [
        {
          "output_type": "stream",
          "name": "stdout",
          "text": [
            "Collecting extra-keras-datasets\n",
            "  Downloading extra_keras_datasets-1.2.0-py3-none-any.whl (12 kB)\n",
            "Requirement already satisfied: numpy in /usr/local/lib/python3.7/dist-packages (from extra-keras-datasets) (1.21.6)\n",
            "Requirement already satisfied: scikit-learn in /usr/local/lib/python3.7/dist-packages (from extra-keras-datasets) (1.0.2)\n",
            "Requirement already satisfied: pandas in /usr/local/lib/python3.7/dist-packages (from extra-keras-datasets) (1.3.5)\n",
            "Requirement already satisfied: scipy in /usr/local/lib/python3.7/dist-packages (from extra-keras-datasets) (1.4.1)\n",
            "Requirement already satisfied: pytz>=2017.3 in /usr/local/lib/python3.7/dist-packages (from pandas->extra-keras-datasets) (2022.1)\n",
            "Requirement already satisfied: python-dateutil>=2.7.3 in /usr/local/lib/python3.7/dist-packages (from pandas->extra-keras-datasets) (2.8.2)\n",
            "Requirement already satisfied: six>=1.5 in /usr/local/lib/python3.7/dist-packages (from python-dateutil>=2.7.3->pandas->extra-keras-datasets) (1.15.0)\n",
            "Requirement already satisfied: joblib>=0.11 in /usr/local/lib/python3.7/dist-packages (from scikit-learn->extra-keras-datasets) (1.1.0)\n",
            "Requirement already satisfied: threadpoolctl>=2.0.0 in /usr/local/lib/python3.7/dist-packages (from scikit-learn->extra-keras-datasets) (3.1.0)\n",
            "Installing collected packages: extra-keras-datasets\n",
            "Successfully installed extra-keras-datasets-1.2.0\n"
          ]
        }
      ]
    },
    {
      "cell_type": "code",
      "execution_count": null,
      "metadata": {
        "id": "ryqy3HimWuc4"
      },
      "outputs": [],
      "source": [
        "import tensorflow as tf\n",
        "import seaborn as sns\n",
        "import matplotlib.pyplot as plt\n",
        "import numpy as np\n",
        "from tensorflow.keras import datasets, layers, models, losses, callbacks\n",
        "from extra_keras_datasets import emnist\n",
        "import time\n",
        "import string\n",
        "import math"
      ]
    },
    {
      "cell_type": "markdown",
      "source": [
        "# Utils"
      ],
      "metadata": {
        "id": "AeWvXLs98vln"
      }
    },
    {
      "cell_type": "code",
      "source": [
        "# CONST\n",
        "TRAIN_PERCENTAGE = .6\n",
        "LENET_INPUT = (32, 32, 1) # as defined in the paper\n",
        "BATCH_SIZE = 32\n",
        "EPOCHS = 20"
      ],
      "metadata": {
        "id": "g8ZDkKKdaOjX"
      },
      "execution_count": null,
      "outputs": []
    },
    {
      "cell_type": "code",
      "source": [
        "class Data:\n",
        "  def __init__(self, x, y):\n",
        "    assert x.shape[0] == y.shape[0], 'Must have same number of inputs and labels'\n",
        "    self.x = x\n",
        "    self.y = y\n",
        "\n",
        "  def preprocess(self):\n",
        "    \"\"\"Apply padding to convert 28x28 to 32x32 and add a dim (because of grayscale only 1channel)\"\"\"\n",
        "    self.x = tf.pad(self.x, [[0, 0], [2, 2], [2, 2]]) / 255\n",
        "    self.x = tf.expand_dims(self.x, axis=3)\n",
        "\n",
        "\n",
        "class TrainData(Data):\n",
        "  def __init__(self, x, y):\n",
        "    super().__init__(x, y)\n",
        "    self.x_train, self.y_train, self.x_val, self.y_val = [], [], [], []\n",
        "\n",
        "\n",
        "  def split_train_val(self, train_percentage):\n",
        "    n_train = int(self.x.shape[0] * train_percentage)\n",
        "    self.x_train = self.x[:n_train]\n",
        "    self.y_train = self.y[:n_train]\n",
        "    self.x_val = self.x[n_train:]\n",
        "    self.y_val = self.y[n_train:]\n",
        "\n",
        "    assert self.x.shape[0] == self.x_train.shape[0] + self.x_val.shape[0], 'Data missing'\n",
        "\n",
        "  \n",
        "  def get_val_data(self):\n",
        "    return self.x_val, self.y_val"
      ],
      "metadata": {
        "id": "5wTZKDJkbnRw"
      },
      "execution_count": null,
      "outputs": []
    },
    {
      "cell_type": "code",
      "source": [
        "def min_occuring_label(data):\n",
        "  u, counts = np.unique(data, return_counts=True)\n",
        "  stats = dict(zip(u, counts))\n",
        "  return min(stats.items(), key=lambda x: x[1]) \n",
        "\n",
        "\n",
        "def keep_smallest(data):\n",
        "  x, y = data\n",
        "  x_kept, y_kept = [], []\n",
        "\n",
        "  kept_occurences = {k: 0 for k in np.unique(y)}\n",
        "  index, min_occ = min_occuring_label(y)\n",
        "\n",
        "  for idx, label in enumerate(y):\n",
        "    if kept_occurences[label] > min_occ:\n",
        "      continue\n",
        "    \n",
        "    x_kept.append(x[idx])\n",
        "    y_kept.append(y[idx])\n",
        "    kept_occurences[label] += 1\n",
        "\n",
        "  return np.array(x_kept), np.array(y_kept)\n",
        "\n",
        "\n",
        "def load_dataset(name, limit_to_min_occurence=False):\n",
        "  assert name in ['mnist', 'letters', 'balanced', 'byclass']\n",
        "\n",
        "  train, test = emnist.load_data(type=name)\n",
        "\n",
        "  if limit_to_min_occurence:\n",
        "    train = keep_smallest(train)\n",
        "    test = keep_smallest(test)\n",
        "  \n",
        "  train = TrainData(train[0], train[1])\n",
        "  test = Data(test[0], test[1])\n",
        "  train.preprocess()\n",
        "  test.preprocess()\n",
        "  train.split_train_val(TRAIN_PERCENTAGE)\n",
        "\n",
        "  return train, test"
      ],
      "metadata": {
        "id": "mPvtt2d08xy-"
      },
      "execution_count": null,
      "outputs": []
    },
    {
      "cell_type": "code",
      "source": [
        "def plot_history(history):\n",
        "  plt.plot(history.history['accuracy'])\n",
        "  plt.plot(history.history['val_accuracy'])\n",
        "  plt.title('model accuracy')\n",
        "  plt.ylabel('accuracy')\n",
        "  plt.xlabel('epoch')\n",
        "  plt.legend(['train', 'val'], loc='upper left')\n",
        "  plt.show()"
      ],
      "metadata": {
        "id": "RwSiPvpKCwIU"
      },
      "execution_count": null,
      "outputs": []
    },
    {
      "cell_type": "code",
      "source": [
        "def plot_conf_matrix(model, test, labels):\n",
        "  from sklearn.metrics import confusion_matrix\n",
        "  import seaborn as sn\n",
        "  pred = np.argmax(model.predict(test.x),axis=1)\n",
        "  print(pred)\n",
        "  mat = confusion_matrix(test.y, pred, labels=labels)\n",
        "  #sn.set(font_scale=1.4) # for label size\n",
        "  sn.heatmap(mat, annot=True)#, annot_kws={\"size\": 16}) # font size\n",
        "\n",
        "  plt.show()"
      ],
      "metadata": {
        "id": "eKeltFFKJ6Ef"
      },
      "execution_count": null,
      "outputs": []
    },
    {
      "cell_type": "markdown",
      "source": [
        "# Networks"
      ],
      "metadata": {
        "id": "4eEdm6kD98Am"
      }
    },
    {
      "cell_type": "code",
      "source": [
        "def lr_decay(epoch):\n",
        "  return 0.01 * math.pow(0.666, epoch)\n",
        "\n",
        "# lr schedule callback\n",
        "lr_decay_callback = callbacks.LearningRateScheduler(lr_decay, verbose=True)"
      ],
      "metadata": {
        "id": "bSUfwX8pA47u"
      },
      "execution_count": null,
      "outputs": []
    },
    {
      "cell_type": "markdown",
      "source": [
        "## BNCNN"
      ],
      "metadata": {
        "id": "9yLYaziX0wTI"
      }
    },
    {
      "cell_type": "code",
      "source": [
        "class BNCNN:\n",
        "  def __init__(self, input_shape, number_of_classes) -> None:\n",
        "    self.model = models.Sequential()\n",
        "    strides = 2\n",
        "    #self.model.add(tf.keras.layers.Reshape(input_shape=(32,32,1), target_shape=(28, 28, 1)))\n",
        "    #channels = [32, 48, 64, 80, 96, 112, 128, 144, 160, 176]\n",
        "    channels = [6, 16, 32, 120]\n",
        "    self.model = self._add_conv_block(self.model, channels[0], 3, input_shape=input_shape, strides=strides)\n",
        "    for c in channels[1:]:\n",
        "      self.model = self._add_conv_block(self.model, c, 3, strides=strides)\n",
        "    #self.model = self._add_conv_block(self.model, 32, 6, strides=1)\n",
        "    #self.model.add(layers.Flatten())\n",
        "    #self.model.add(layers.Dense(200, use_bias=False))\n",
        "    self.model.add(layers.Flatten())\n",
        "    self.model.add(layers.Dense(84, use_bias=False))\n",
        "    self.model.add(layers.BatchNormalization(center=True, scale=False))\n",
        "    self.model.add(layers.Activation('relu'))\n",
        "    self.model.add(layers.Dropout(0.3))\n",
        "    self.model.add(layers.Dense(number_of_classes, activation='softmax'))\n",
        "    self.model.summary()\n",
        "\n",
        "\n",
        "  def _add_conv_block(self, model, filters, ksize, strides=1, input_shape = None):\n",
        "    if input_shape:\n",
        "      self.model.add(layers.Conv2D(filters, ksize, activation='relu', strides=strides, input_shape=input_shape, use_bias=False))\n",
        "    else:\n",
        "      self.model.add(layers.Conv2D(filters, ksize, activation='relu', strides=strides, use_bias=False))\n",
        "    self.model.add(layers.BatchNormalization(center=True, scale=False))\n",
        "    self.model.add(layers.Activation('relu'))\n",
        "    return self.model\n",
        "\n",
        "  def train(self, train_data:TrainData, batch_size:int, epochs:int):\n",
        "    self.model.compile(optimizer = 'adam', loss = losses.sparse_categorical_crossentropy, metrics = ['accuracy'])\n",
        "    return self.model.fit(\n",
        "        train_data.x_train, train_data.y_train,\n",
        "        batch_size = batch_size, epochs = epochs,\n",
        "        validation_data = train_data.get_val_data(),\n",
        "        callbacks = [lr_decay_callback]\n",
        "    )"
      ],
      "metadata": {
        "id": "4lSs-qXbrzHG"
      },
      "execution_count": null,
      "outputs": []
    },
    {
      "cell_type": "markdown",
      "source": [
        "## LENET"
      ],
      "metadata": {
        "id": "RiMkqlUf0yrw"
      }
    },
    {
      "cell_type": "code",
      "source": [
        "class LeNet:\n",
        "  def __init__(self, input_shape, number_of_classes, model=None):\n",
        "    self.model = models.Sequential()\n",
        "    self.model.add(layers.Conv2D(6, 5, activation='relu', input_shape=input_shape))\n",
        "    self.model.add(layers.AveragePooling2D(2))\n",
        "    self.model.add(layers.Activation('relu'))\n",
        "    self.model.add(layers.Conv2D(16, 5, activation='relu'))\n",
        "    self.model.add(layers.AveragePooling2D(2))\n",
        "    self.model.add(layers.Activation('relu'))\n",
        "    self.model.add(layers.Conv2D(120, 5, activation='relu'))\n",
        "    self.model.add(layers.Flatten())\n",
        "    self.model.add(layers.Dense(84, activation='relu'))\n",
        "    self.model.add(layers.Dense(number_of_classes, activation='softmax'))\n",
        "    self.model.summary()\n",
        "    \n",
        "\n",
        "  def train(self, train_data:TrainData, batch_size:int, epochs:int):\n",
        "    self.model.compile(optimizer = 'adam', loss = losses.sparse_categorical_crossentropy, metrics = ['accuracy'])\n",
        "    return self.model.fit(\n",
        "        train_data.x_train, train_data.y_train,\n",
        "        batch_size = batch_size, epochs = epochs,\n",
        "        validation_data = train_data.get_val_data(),\n",
        "        callbacks = [\n",
        "                     callbacks.ReduceLROnPlateau(monitor='val_loss')\n",
        "        ]\n",
        "    )"
      ],
      "metadata": {
        "id": "b61aN_VpaL3Z"
      },
      "execution_count": null,
      "outputs": []
    },
    {
      "cell_type": "code",
      "source": [
        "def trainer(name, n_classes, limit=False, model='lenet'):\n",
        "  train, test = load_dataset(name, limit)\n",
        "  if model == 'lenet':\n",
        "    net = LeNet(LENET_INPUT, n_classes)\n",
        "  elif model == 'bncnn':\n",
        "    net = BNCNN(LENET_INPUT, n_classes)\n",
        "\n",
        "  t = time.time()\n",
        "  print(train.x[0].shape)\n",
        "  history = net.train(train, batch_size = BATCH_SIZE, epochs = EPOCHS)\n",
        "\n",
        "  print(f'Training time {time.time() - t}s')\n",
        "\n",
        "  plot_history(history)\n",
        "\n",
        "  loss, test_acc = net.model.evaluate(test.x, test.y)\n",
        "  test_acc = f'{test_acc:.4f}'\n",
        "  print(f'Test accuracy {test_acc}')\n",
        "  test_acc = test_acc.replace('.','')\n",
        "  net.model.save(f'./{model}_{name}_{test_acc}.h5')\n",
        "  return net, history"
      ],
      "metadata": {
        "id": "qY7KCOHZB2RZ"
      },
      "execution_count": null,
      "outputs": []
    },
    {
      "cell_type": "markdown",
      "source": [
        "# Train"
      ],
      "metadata": {
        "id": "GvJFbMTafTvL"
      }
    },
    {
      "cell_type": "markdown",
      "source": [
        "## MNIST LENET"
      ],
      "metadata": {
        "id": "j_tN8Do6kQL1"
      }
    },
    {
      "cell_type": "code",
      "source": [
        "net, history = trainer('mnist', 10, True)"
      ],
      "metadata": {
        "id": "4N7ysh1AZNgW",
        "colab": {
          "base_uri": "https://localhost:8080/",
          "height": 1000
        },
        "outputId": "23f920bd-124f-431f-bba2-a4d84781fb0b"
      },
      "execution_count": null,
      "outputs": [
        {
          "output_type": "stream",
          "name": "stderr",
          "text": [
            "INFO:root:Loading dataset = emnist\n"
          ]
        },
        {
          "output_type": "stream",
          "name": "stdout",
          "text": [
            "Downloading data from http://www.itl.nist.gov/iaui/vip/cs_links/EMNIST/matlab.zip\n",
            "743907328/743900280 [==============================] - 11s 0us/step\n",
            "743915520/743900280 [==============================] - 11s 0us/step\n"
          ]
        },
        {
          "output_type": "stream",
          "name": "stderr",
          "text": [
            "WARNING:root:Please cite the following paper when using or referencing this Extra Keras Dataset:\n",
            "WARNING:root:Cohen, G., Afshar, S., Tapson, J., & van Schaik, A. (2017). EMNIST: an extension of MNIST to handwritten letters. Retrieved from http://arxiv.org/abs/1702.05373\n"
          ]
        },
        {
          "output_type": "stream",
          "name": "stdout",
          "text": [
            "Model: \"sequential\"\n",
            "_________________________________________________________________\n",
            " Layer (type)                Output Shape              Param #   \n",
            "=================================================================\n",
            " conv2d (Conv2D)             (None, 28, 28, 6)         156       \n",
            "                                                                 \n",
            " average_pooling2d (AverageP  (None, 14, 14, 6)        0         \n",
            " ooling2D)                                                       \n",
            "                                                                 \n",
            " activation (Activation)     (None, 14, 14, 6)         0         \n",
            "                                                                 \n",
            " conv2d_1 (Conv2D)           (None, 10, 10, 16)        2416      \n",
            "                                                                 \n",
            " average_pooling2d_1 (Averag  (None, 5, 5, 16)         0         \n",
            " ePooling2D)                                                     \n",
            "                                                                 \n",
            " activation_1 (Activation)   (None, 5, 5, 16)          0         \n",
            "                                                                 \n",
            " conv2d_2 (Conv2D)           (None, 1, 1, 120)         48120     \n",
            "                                                                 \n",
            " flatten (Flatten)           (None, 120)               0         \n",
            "                                                                 \n",
            " dense (Dense)               (None, 84)                10164     \n",
            "                                                                 \n",
            " dense_1 (Dense)             (None, 10)                850       \n",
            "                                                                 \n",
            "=================================================================\n",
            "Total params: 61,706\n",
            "Trainable params: 61,706\n",
            "Non-trainable params: 0\n",
            "_________________________________________________________________\n",
            "(32, 32, 1)\n",
            "Epoch 1/20\n",
            "1125/1125 [==============================] - 18s 6ms/step - loss: 0.2789 - accuracy: 0.9157 - val_loss: 0.1029 - val_accuracy: 0.9688 - lr: 0.0010\n",
            "Epoch 2/20\n",
            "1125/1125 [==============================] - 7s 6ms/step - loss: 0.0788 - accuracy: 0.9759 - val_loss: 0.0959 - val_accuracy: 0.9705 - lr: 0.0010\n",
            "Epoch 3/20\n",
            "1125/1125 [==============================] - 8s 7ms/step - loss: 0.0560 - accuracy: 0.9827 - val_loss: 0.0844 - val_accuracy: 0.9747 - lr: 0.0010\n",
            "Epoch 4/20\n",
            "1125/1125 [==============================] - 8s 7ms/step - loss: 0.0442 - accuracy: 0.9854 - val_loss: 0.0535 - val_accuracy: 0.9837 - lr: 0.0010\n",
            "Epoch 5/20\n",
            "1125/1125 [==============================] - 7s 6ms/step - loss: 0.0341 - accuracy: 0.9893 - val_loss: 0.0460 - val_accuracy: 0.9868 - lr: 0.0010\n",
            "Epoch 6/20\n",
            "1125/1125 [==============================] - 8s 7ms/step - loss: 0.0284 - accuracy: 0.9901 - val_loss: 0.0572 - val_accuracy: 0.9845 - lr: 0.0010\n",
            "Epoch 7/20\n",
            "1125/1125 [==============================] - 7s 6ms/step - loss: 0.0233 - accuracy: 0.9926 - val_loss: 0.0470 - val_accuracy: 0.9870 - lr: 0.0010\n",
            "Epoch 8/20\n",
            "1125/1125 [==============================] - 7s 6ms/step - loss: 0.0193 - accuracy: 0.9937 - val_loss: 0.0491 - val_accuracy: 0.9868 - lr: 0.0010\n",
            "Epoch 9/20\n",
            "1125/1125 [==============================] - 8s 7ms/step - loss: 0.0181 - accuracy: 0.9941 - val_loss: 0.0486 - val_accuracy: 0.9874 - lr: 0.0010\n",
            "Epoch 10/20\n",
            "1125/1125 [==============================] - 8s 7ms/step - loss: 0.0138 - accuracy: 0.9957 - val_loss: 0.0490 - val_accuracy: 0.9873 - lr: 0.0010\n",
            "Epoch 11/20\n",
            "1125/1125 [==============================] - 8s 7ms/step - loss: 0.0137 - accuracy: 0.9956 - val_loss: 0.0441 - val_accuracy: 0.9894 - lr: 0.0010\n",
            "Epoch 12/20\n",
            "1125/1125 [==============================] - 8s 7ms/step - loss: 0.0107 - accuracy: 0.9966 - val_loss: 0.0470 - val_accuracy: 0.9889 - lr: 0.0010\n",
            "Epoch 13/20\n",
            "1125/1125 [==============================] - 7s 6ms/step - loss: 0.0104 - accuracy: 0.9969 - val_loss: 0.0468 - val_accuracy: 0.9891 - lr: 0.0010\n",
            "Epoch 14/20\n",
            "1125/1125 [==============================] - 7s 6ms/step - loss: 0.0085 - accuracy: 0.9972 - val_loss: 0.0537 - val_accuracy: 0.9874 - lr: 0.0010\n",
            "Epoch 15/20\n",
            "1125/1125 [==============================] - 7s 6ms/step - loss: 0.0097 - accuracy: 0.9969 - val_loss: 0.0531 - val_accuracy: 0.9893 - lr: 0.0010\n",
            "Epoch 16/20\n",
            "1125/1125 [==============================] - 7s 6ms/step - loss: 0.0069 - accuracy: 0.9976 - val_loss: 0.0620 - val_accuracy: 0.9883 - lr: 0.0010\n",
            "Epoch 17/20\n",
            "1125/1125 [==============================] - 7s 6ms/step - loss: 0.0076 - accuracy: 0.9970 - val_loss: 0.0471 - val_accuracy: 0.9910 - lr: 0.0010\n",
            "Epoch 18/20\n",
            "1125/1125 [==============================] - 8s 7ms/step - loss: 0.0059 - accuracy: 0.9983 - val_loss: 0.0584 - val_accuracy: 0.9884 - lr: 0.0010\n",
            "Epoch 19/20\n",
            "1125/1125 [==============================] - 8s 7ms/step - loss: 0.0067 - accuracy: 0.9979 - val_loss: 0.0534 - val_accuracy: 0.9902 - lr: 0.0010\n",
            "Epoch 20/20\n",
            "1125/1125 [==============================] - 8s 7ms/step - loss: 0.0053 - accuracy: 0.9986 - val_loss: 0.0580 - val_accuracy: 0.9885 - lr: 0.0010\n",
            "Training time 202.8613986968994s\n"
          ]
        },
        {
          "output_type": "display_data",
          "data": {
            "text/plain": [
              "<Figure size 432x288 with 1 Axes>"
            ],
            "image/png": "[encoded data removed]"
          },
          "metadata": {
            "needs_background": "light"
          }
        },
        {
          "output_type": "stream",
          "name": "stdout",
          "text": [
            "313/313 [==============================] - 2s 4ms/step - loss: 0.0539 - accuracy: 0.9893\n",
            "Test accuracy 0.9893\n"
          ]
        }
      ]
    },
    {
      "cell_type": "code",
      "source": [
        "model = tf.keras.models.load_model('lenet_mnist_09919.h5')\n",
        "plot_conf_matrix(model, test)"
      ],
      "metadata": {
        "colab": {
          "base_uri": "https://localhost:8080/",
          "height": 273
        },
        "id": "WfeBd4EYXgza",
        "outputId": "5c1147cc-8c57-443a-bd64-4e67a5ea0836"
      },
      "execution_count": null,
      "outputs": [
        {
          "output_type": "display_data",
          "data": {
            "text/plain": [
              "<Figure size 432x288 with 2 Axes>"
            ],
            "image/png": "[encoded data removed]"
          },
          "metadata": {}
        }
      ]
    },
    {
      "cell_type": "markdown",
      "source": [
        "## EMNIST LENET"
      ],
      "metadata": {
        "id": "VS-y-cz3kkvo"
      }
    },
    {
      "cell_type": "code",
      "source": [
        "net, history = trainer('letters', 27)"
      ],
      "metadata": {
        "colab": {
          "base_uri": "https://localhost:8080/",
          "height": 1000
        },
        "id": "XkipsHSukdi2",
        "outputId": "50576e6c-358c-44ba-8c85-3e2de9c3d198"
      },
      "execution_count": null,
      "outputs": [
        {
          "output_type": "stream",
          "name": "stderr",
          "text": [
            "INFO:root:Loading dataset = emnist\n",
            "WARNING:root:Please cite the following paper when using or referencing this Extra Keras Dataset:\n",
            "WARNING:root:Cohen, G., Afshar, S., Tapson, J., & van Schaik, A. (2017). EMNIST: an extension of MNIST to handwritten letters. Retrieved from http://arxiv.org/abs/1702.05373\n"
          ]
        },
        {
          "output_type": "stream",
          "name": "stdout",
          "text": [
            "Model: \"sequential_1\"\n",
            "_________________________________________________________________\n",
            " Layer (type)                Output Shape              Param #   \n",
            "=================================================================\n",
            " conv2d_3 (Conv2D)           (None, 28, 28, 6)         156       \n",
            "                                                                 \n",
            " average_pooling2d_2 (Averag  (None, 14, 14, 6)        0         \n",
            " ePooling2D)                                                     \n",
            "                                                                 \n",
            " activation_2 (Activation)   (None, 14, 14, 6)         0         \n",
            "                                                                 \n",
            " conv2d_4 (Conv2D)           (None, 10, 10, 16)        2416      \n",
            "                                                                 \n",
            " average_pooling2d_3 (Averag  (None, 5, 5, 16)         0         \n",
            " ePooling2D)                                                     \n",
            "                                                                 \n",
            " activation_3 (Activation)   (None, 5, 5, 16)          0         \n",
            "                                                                 \n",
            " conv2d_5 (Conv2D)           (None, 1, 1, 120)         48120     \n",
            "                                                                 \n",
            " flatten_1 (Flatten)         (None, 120)               0         \n",
            "                                                                 \n",
            " dense_2 (Dense)             (None, 84)                10164     \n",
            "                                                                 \n",
            " dense_3 (Dense)             (None, 27)                2295      \n",
            "                                                                 \n",
            "=================================================================\n",
            "Total params: 63,151\n",
            "Trainable params: 63,151\n",
            "Non-trainable params: 0\n",
            "_________________________________________________________________\n",
            "(32, 32, 1)\n",
            "Epoch 1/20\n",
            "2340/2340 [==============================] - 17s 7ms/step - loss: 0.6356 - accuracy: 0.8006 - val_loss: 0.3525 - val_accuracy: 0.8855 - lr: 0.0010\n",
            "Epoch 2/20\n",
            "2340/2340 [==============================] - 16s 7ms/step - loss: 0.3044 - accuracy: 0.8979 - val_loss: 0.2859 - val_accuracy: 0.9049 - lr: 0.0010\n",
            "Epoch 3/20\n",
            "2340/2340 [==============================] - 14s 6ms/step - loss: 0.2505 - accuracy: 0.9146 - val_loss: 0.2500 - val_accuracy: 0.9175 - lr: 0.0010\n",
            "Epoch 4/20\n",
            "2340/2340 [==============================] - 16s 7ms/step - loss: 0.2188 - accuracy: 0.9231 - val_loss: 0.2477 - val_accuracy: 0.9199 - lr: 0.0010\n",
            "Epoch 5/20\n",
            "2340/2340 [==============================] - 14s 6ms/step - loss: 0.1979 - accuracy: 0.9300 - val_loss: 0.2585 - val_accuracy: 0.9150 - lr: 0.0010\n",
            "Epoch 6/20\n",
            "2340/2340 [==============================] - 14s 6ms/step - loss: 0.1798 - accuracy: 0.9359 - val_loss: 0.2326 - val_accuracy: 0.9218 - lr: 0.0010\n",
            "Epoch 7/20\n",
            "2340/2340 [==============================] - 16s 7ms/step - loss: 0.1657 - accuracy: 0.9395 - val_loss: 0.2336 - val_accuracy: 0.9275 - lr: 0.0010\n",
            "Epoch 8/20\n",
            "2340/2340 [==============================] - 14s 6ms/step - loss: 0.1542 - accuracy: 0.9440 - val_loss: 0.2331 - val_accuracy: 0.9285 - lr: 0.0010\n",
            "Epoch 9/20\n",
            "2340/2340 [==============================] - 16s 7ms/step - loss: 0.1439 - accuracy: 0.9465 - val_loss: 0.2335 - val_accuracy: 0.9280 - lr: 0.0010\n",
            "Epoch 10/20\n",
            "2340/2340 [==============================] - 14s 6ms/step - loss: 0.1352 - accuracy: 0.9489 - val_loss: 0.2330 - val_accuracy: 0.9306 - lr: 0.0010\n",
            "Epoch 11/20\n",
            "2340/2340 [==============================] - 14s 6ms/step - loss: 0.1269 - accuracy: 0.9513 - val_loss: 0.2295 - val_accuracy: 0.9309 - lr: 0.0010\n",
            "Epoch 12/20\n",
            "2340/2340 [==============================] - 16s 7ms/step - loss: 0.1193 - accuracy: 0.9542 - val_loss: 0.2410 - val_accuracy: 0.9315 - lr: 0.0010\n",
            "Epoch 13/20\n",
            "2340/2340 [==============================] - 16s 7ms/step - loss: 0.1130 - accuracy: 0.9562 - val_loss: 0.2565 - val_accuracy: 0.9274 - lr: 0.0010\n",
            "Epoch 14/20\n",
            "2340/2340 [==============================] - 16s 7ms/step - loss: 0.1082 - accuracy: 0.9578 - val_loss: 0.2549 - val_accuracy: 0.9297 - lr: 0.0010\n",
            "Epoch 15/20\n",
            "2340/2340 [==============================] - 14s 6ms/step - loss: 0.1029 - accuracy: 0.9594 - val_loss: 0.2646 - val_accuracy: 0.9291 - lr: 0.0010\n",
            "Epoch 16/20\n",
            "2340/2340 [==============================] - 14s 6ms/step - loss: 0.0970 - accuracy: 0.9606 - val_loss: 0.2636 - val_accuracy: 0.9308 - lr: 0.0010\n",
            "Epoch 17/20\n",
            "2340/2340 [==============================] - 14s 6ms/step - loss: 0.0953 - accuracy: 0.9619 - val_loss: 0.2656 - val_accuracy: 0.9287 - lr: 0.0010\n",
            "Epoch 18/20\n",
            "2340/2340 [==============================] - 14s 6ms/step - loss: 0.0901 - accuracy: 0.9642 - val_loss: 0.2726 - val_accuracy: 0.9293 - lr: 0.0010\n",
            "Epoch 19/20\n",
            "2340/2340 [==============================] - 16s 7ms/step - loss: 0.0870 - accuracy: 0.9644 - val_loss: 0.2904 - val_accuracy: 0.9291 - lr: 0.0010\n",
            "Epoch 20/20\n",
            "2340/2340 [==============================] - 14s 6ms/step - loss: 0.0853 - accuracy: 0.9652 - val_loss: 0.3007 - val_accuracy: 0.9275 - lr: 0.0010\n",
            "Training time 299.8600022792816s\n"
          ]
        },
        {
          "output_type": "display_data",
          "data": {
            "text/plain": [
              "<Figure size 432x288 with 1 Axes>"
            ],
            "image/png": "[encoded data removed]"
          },
          "metadata": {
            "needs_background": "light"
          }
        },
        {
          "output_type": "stream",
          "name": "stdout",
          "text": [
            "650/650 [==============================] - 2s 3ms/step - loss: 0.2925 - accuracy: 0.9248\n",
            "Test accuracy 0.9248\n"
          ]
        }
      ]
    },
    {
      "cell_type": "markdown",
      "source": [
        "## EMNIST (CHIFFRES + LETTRES)"
      ],
      "metadata": {
        "id": "8DG3yDxu8dap"
      }
    },
    {
      "cell_type": "code",
      "source": [
        "net, history = trainer('byclass', 62, limit=True)"
      ],
      "metadata": {
        "colab": {
          "base_uri": "https://localhost:8080/",
          "height": 1000
        },
        "id": "KS66Qyk48jPD",
        "outputId": "b8cb6034-ab6d-450a-86f7-31509a6419a5"
      },
      "execution_count": null,
      "outputs": [
        {
          "output_type": "stream",
          "name": "stderr",
          "text": [
            "INFO:root:Loading dataset = emnist\n",
            "WARNING:root:Please cite the following paper when using or referencing this Extra Keras Dataset:\n",
            "WARNING:root:Cohen, G., Afshar, S., Tapson, J., & van Schaik, A. (2017). EMNIST: an extension of MNIST to handwritten letters. Retrieved from http://arxiv.org/abs/1702.05373\n"
          ]
        },
        {
          "output_type": "stream",
          "name": "stdout",
          "text": [
            "Epoch 1/40\n",
            "2206/2206 [==============================] - 17s 7ms/step - loss: 1.1463 - accuracy: 0.6514 - val_loss: 1.3363 - val_accuracy: 0.5003 - lr: 0.0010\n",
            "Epoch 2/40\n",
            "2206/2206 [==============================] - 16s 7ms/step - loss: 0.7048 - accuracy: 0.7552 - val_loss: 1.2596 - val_accuracy: 0.5161 - lr: 0.0010\n",
            "Epoch 3/40\n",
            "2206/2206 [==============================] - 17s 8ms/step - loss: 0.6236 - accuracy: 0.7751 - val_loss: 1.1292 - val_accuracy: 0.5228 - lr: 0.0010\n",
            "Epoch 4/40\n",
            "2206/2206 [==============================] - 16s 7ms/step - loss: 0.5762 - accuracy: 0.7891 - val_loss: 1.1852 - val_accuracy: 0.5354 - lr: 0.0010\n",
            "Epoch 5/40\n",
            "2206/2206 [==============================] - 17s 8ms/step - loss: 0.5444 - accuracy: 0.7971 - val_loss: 1.0556 - val_accuracy: 0.5538 - lr: 0.0010\n",
            "Epoch 6/40\n",
            "2206/2206 [==============================] - 16s 7ms/step - loss: 0.5177 - accuracy: 0.8062 - val_loss: 1.1047 - val_accuracy: 0.5405 - lr: 0.0010\n",
            "Epoch 7/40\n",
            "2206/2206 [==============================] - 16s 7ms/step - loss: 0.4978 - accuracy: 0.8099 - val_loss: 1.0868 - val_accuracy: 0.5517 - lr: 0.0010\n",
            "Epoch 8/40\n",
            "2206/2206 [==============================] - 16s 7ms/step - loss: 0.4803 - accuracy: 0.8148 - val_loss: 1.0323 - val_accuracy: 0.5675 - lr: 0.0010\n",
            "Epoch 9/40\n",
            "2206/2206 [==============================] - 16s 7ms/step - loss: 0.4622 - accuracy: 0.8218 - val_loss: 1.0573 - val_accuracy: 0.5571 - lr: 0.0010\n",
            "Epoch 10/40\n",
            "2206/2206 [==============================] - 16s 7ms/step - loss: 0.4492 - accuracy: 0.8244 - val_loss: 1.0241 - val_accuracy: 0.5700 - lr: 0.0010\n",
            "Epoch 11/40\n",
            "2206/2206 [==============================] - 16s 7ms/step - loss: 0.4369 - accuracy: 0.8291 - val_loss: 0.9528 - val_accuracy: 0.6043 - lr: 0.0010\n",
            "Epoch 12/40\n",
            "2206/2206 [==============================] - 16s 7ms/step - loss: 0.4253 - accuracy: 0.8319 - val_loss: 1.0376 - val_accuracy: 0.5951 - lr: 0.0010\n",
            "Epoch 13/40\n",
            "2206/2206 [==============================] - 17s 8ms/step - loss: 0.4150 - accuracy: 0.8337 - val_loss: 1.1230 - val_accuracy: 0.5723 - lr: 0.0010\n",
            "Epoch 14/40\n",
            "2206/2206 [==============================] - 16s 7ms/step - loss: 0.4065 - accuracy: 0.8364 - val_loss: 1.0946 - val_accuracy: 0.5849 - lr: 0.0010\n",
            "Epoch 15/40\n",
            "2206/2206 [==============================] - 16s 7ms/step - loss: 0.3963 - accuracy: 0.8397 - val_loss: 1.0866 - val_accuracy: 0.5833 - lr: 0.0010\n",
            "Epoch 16/40\n",
            "2206/2206 [==============================] - 16s 7ms/step - loss: 0.3871 - accuracy: 0.8436 - val_loss: 1.1401 - val_accuracy: 0.5761 - lr: 0.0010\n",
            "Epoch 17/40\n",
            "2206/2206 [==============================] - 16s 7ms/step - loss: 0.3796 - accuracy: 0.8453 - val_loss: 1.1229 - val_accuracy: 0.5762 - lr: 0.0010\n",
            "Epoch 18/40\n",
            "2206/2206 [==============================] - 17s 8ms/step - loss: 0.3709 - accuracy: 0.8480 - val_loss: 1.1556 - val_accuracy: 0.5729 - lr: 0.0010\n",
            "Epoch 19/40\n",
            "2206/2206 [==============================] - 16s 7ms/step - loss: 0.3636 - accuracy: 0.8509 - val_loss: 1.1568 - val_accuracy: 0.5842 - lr: 0.0010\n",
            "Epoch 20/40\n",
            "2206/2206 [==============================] - 17s 8ms/step - loss: 0.3564 - accuracy: 0.8527 - val_loss: 1.2353 - val_accuracy: 0.5907 - lr: 0.0010\n",
            "Epoch 21/40\n",
            "2206/2206 [==============================] - 16s 7ms/step - loss: 0.3500 - accuracy: 0.8548 - val_loss: 1.2030 - val_accuracy: 0.5865 - lr: 0.0010\n",
            "Epoch 22/40\n",
            "2206/2206 [==============================] - 17s 8ms/step - loss: 0.2881 - accuracy: 0.8802 - val_loss: 1.2415 - val_accuracy: 0.5925 - lr: 1.0000e-04\n",
            "Epoch 23/40\n",
            "2206/2206 [==============================] - 17s 8ms/step - loss: 0.2714 - accuracy: 0.8872 - val_loss: 1.2855 - val_accuracy: 0.5916 - lr: 1.0000e-04\n",
            "Epoch 24/40\n",
            "2206/2206 [==============================] - 17s 8ms/step - loss: 0.2644 - accuracy: 0.8908 - val_loss: 1.3040 - val_accuracy: 0.5952 - lr: 1.0000e-04\n",
            "Epoch 25/40\n",
            "2206/2206 [==============================] - 17s 8ms/step - loss: 0.2593 - accuracy: 0.8922 - val_loss: 1.3231 - val_accuracy: 0.5991 - lr: 1.0000e-04\n",
            "Epoch 26/40\n",
            "2206/2206 [==============================] - 17s 8ms/step - loss: 0.2547 - accuracy: 0.8940 - val_loss: 1.3796 - val_accuracy: 0.5923 - lr: 1.0000e-04\n",
            "Epoch 27/40\n",
            "2206/2206 [==============================] - 17s 8ms/step - loss: 0.2510 - accuracy: 0.8957 - val_loss: 1.3690 - val_accuracy: 0.5982 - lr: 1.0000e-04\n",
            "Epoch 28/40\n",
            "2206/2206 [==============================] - 16s 7ms/step - loss: 0.2475 - accuracy: 0.8975 - val_loss: 1.4083 - val_accuracy: 0.5960 - lr: 1.0000e-04\n",
            "Epoch 29/40\n",
            "2206/2206 [==============================] - 16s 7ms/step - loss: 0.2443 - accuracy: 0.8984 - val_loss: 1.4316 - val_accuracy: 0.5952 - lr: 1.0000e-04\n",
            "Epoch 30/40\n",
            "2206/2206 [==============================] - 16s 7ms/step - loss: 0.2410 - accuracy: 0.8995 - val_loss: 1.4832 - val_accuracy: 0.5913 - lr: 1.0000e-04\n",
            "Epoch 31/40\n",
            "2206/2206 [==============================] - 16s 7ms/step - loss: 0.2381 - accuracy: 0.9017 - val_loss: 1.4964 - val_accuracy: 0.5949 - lr: 1.0000e-04\n",
            "Epoch 32/40\n",
            "2206/2206 [==============================] - 17s 8ms/step - loss: 0.2284 - accuracy: 0.9068 - val_loss: 1.4993 - val_accuracy: 0.5960 - lr: 1.0000e-05\n",
            "Epoch 33/40\n",
            "2206/2206 [==============================] - 17s 8ms/step - loss: 0.2271 - accuracy: 0.9073 - val_loss: 1.5033 - val_accuracy: 0.5966 - lr: 1.0000e-05\n",
            "Epoch 34/40\n",
            "2206/2206 [==============================] - 16s 7ms/step - loss: 0.2266 - accuracy: 0.9074 - val_loss: 1.5108 - val_accuracy: 0.5962 - lr: 1.0000e-05\n",
            "Epoch 35/40\n",
            "2206/2206 [==============================] - 16s 7ms/step - loss: 0.2261 - accuracy: 0.9073 - val_loss: 1.5157 - val_accuracy: 0.5965 - lr: 1.0000e-05\n",
            "Epoch 36/40\n",
            "2206/2206 [==============================] - 17s 8ms/step - loss: 0.2256 - accuracy: 0.9075 - val_loss: 1.5278 - val_accuracy: 0.5954 - lr: 1.0000e-05\n",
            "Epoch 37/40\n",
            "2206/2206 [==============================] - 16s 7ms/step - loss: 0.2253 - accuracy: 0.9075 - val_loss: 1.5220 - val_accuracy: 0.5971 - lr: 1.0000e-05\n",
            "Epoch 38/40\n",
            "2206/2206 [==============================] - 16s 7ms/step - loss: 0.2249 - accuracy: 0.9082 - val_loss: 1.5314 - val_accuracy: 0.5965 - lr: 1.0000e-05\n",
            "Epoch 39/40\n",
            "2206/2206 [==============================] - 17s 8ms/step - loss: 0.2246 - accuracy: 0.9078 - val_loss: 1.5364 - val_accuracy: 0.5959 - lr: 1.0000e-05\n",
            "Epoch 40/40\n",
            "2206/2206 [==============================] - 16s 7ms/step - loss: 0.2242 - accuracy: 0.9082 - val_loss: 1.5394 - val_accuracy: 0.5964 - lr: 1.0000e-05\n",
            "Training time 682.5751349925995s\n"
          ]
        },
        {
          "output_type": "display_data",
          "data": {
            "text/plain": [
              "<Figure size 432x288 with 1 Axes>"
            ],
            "image/png": "[encoded data removed]"
          },
          "metadata": {
            "needs_background": "light"
          }
        },
        {
          "output_type": "stream",
          "name": "stdout",
          "text": [
            "617/617 [==============================] - 2s 4ms/step - loss: 1.0947 - accuracy: 0.7135\n",
            "Test accuracy 0.7135\n"
          ]
        }
      ]
    },
    {
      "cell_type": "markdown",
      "source": [
        "## BNCNN"
      ],
      "metadata": {
        "id": "XvXA1etlyWRo"
      }
    },
    {
      "cell_type": "code",
      "source": [
        "net, history = trainer('letters', 27, model='bncnn')"
      ],
      "metadata": {
        "colab": {
          "base_uri": "https://localhost:8080/",
          "height": 1000
        },
        "id": "3aUS_EMBeCOF",
        "outputId": "2ee7c4a7-7832-4e89-bca2-9522d596a275"
      },
      "execution_count": null,
      "outputs": [
        {
          "output_type": "stream",
          "name": "stderr",
          "text": [
            "INFO:root:Loading dataset = emnist\n",
            "WARNING:root:Please cite the following paper when using or referencing this Extra Keras Dataset:\n",
            "WARNING:root:Cohen, G., Afshar, S., Tapson, J., & van Schaik, A. (2017). EMNIST: an extension of MNIST to handwritten letters. Retrieved from http://arxiv.org/abs/1702.05373\n"
          ]
        },
        {
          "output_type": "stream",
          "name": "stdout",
          "text": [
            "Model: \"sequential_10\"\n",
            "_________________________________________________________________\n",
            " Layer (type)                Output Shape              Param #   \n",
            "=================================================================\n",
            " conv2d_38 (Conv2D)          (None, 30, 30, 6)         54        \n",
            "                                                                 \n",
            " batch_normalization_38 (Bat  (None, 30, 30, 6)        18        \n",
            " chNormalization)                                                \n",
            "                                                                 \n",
            " activation_40 (Activation)  (None, 30, 30, 6)         0         \n",
            "                                                                 \n",
            " conv2d_39 (Conv2D)          (None, 14, 14, 16)        864       \n",
            "                                                                 \n",
            " batch_normalization_39 (Bat  (None, 14, 14, 16)       48        \n",
            " chNormalization)                                                \n",
            "                                                                 \n",
            " activation_41 (Activation)  (None, 14, 14, 16)        0         \n",
            "                                                                 \n",
            " conv2d_40 (Conv2D)          (None, 6, 6, 32)          4608      \n",
            "                                                                 \n",
            " batch_normalization_40 (Bat  (None, 6, 6, 32)         96        \n",
            " chNormalization)                                                \n",
            "                                                                 \n",
            " activation_42 (Activation)  (None, 6, 6, 32)          0         \n",
            "                                                                 \n",
            " conv2d_41 (Conv2D)          (None, 2, 2, 120)         34560     \n",
            "                                                                 \n",
            " batch_normalization_41 (Bat  (None, 2, 2, 120)        360       \n",
            " chNormalization)                                                \n",
            "                                                                 \n",
            " activation_43 (Activation)  (None, 2, 2, 120)         0         \n",
            "                                                                 \n",
            " flatten_7 (Flatten)         (None, 480)               0         \n",
            "                                                                 \n",
            " dense_14 (Dense)            (None, 84)                40320     \n",
            "                                                                 \n",
            " batch_normalization_42 (Bat  (None, 84)               252       \n",
            " chNormalization)                                                \n",
            "                                                                 \n",
            " activation_44 (Activation)  (None, 84)                0         \n",
            "                                                                 \n",
            " dropout_6 (Dropout)         (None, 84)                0         \n",
            "                                                                 \n",
            " dense_15 (Dense)            (None, 27)                2295      \n",
            "                                                                 \n",
            "=================================================================\n",
            "Total params: 83,475\n",
            "Trainable params: 82,959\n",
            "Non-trainable params: 516\n",
            "_________________________________________________________________\n",
            "(32, 32, 1)\n",
            "\n",
            "Epoch 1: LearningRateScheduler setting learning rate to 0.01.\n",
            "Epoch 1/20\n",
            "2340/2340 [==============================] - 19s 8ms/step - loss: 0.6466 - accuracy: 0.7971 - val_loss: 0.3700 - val_accuracy: 0.8816 - lr: 0.0100\n",
            "\n",
            "Epoch 2: LearningRateScheduler setting learning rate to 0.00666.\n",
            "Epoch 2/20\n",
            "2340/2340 [==============================] - 18s 8ms/step - loss: 0.3649 - accuracy: 0.8817 - val_loss: 0.2760 - val_accuracy: 0.9104 - lr: 0.0067\n",
            "\n",
            "Epoch 3: LearningRateScheduler setting learning rate to 0.004435560000000001.\n",
            "Epoch 3/20\n",
            "2340/2340 [==============================] - 19s 8ms/step - loss: 0.2946 - accuracy: 0.9018 - val_loss: 0.2514 - val_accuracy: 0.9174 - lr: 0.0044\n",
            "\n",
            "Epoch 4: LearningRateScheduler setting learning rate to 0.0029540829600000007.\n",
            "Epoch 4/20\n",
            "2340/2340 [==============================] - 19s 8ms/step - loss: 0.2503 - accuracy: 0.9157 - val_loss: 0.2321 - val_accuracy: 0.9245 - lr: 0.0030\n",
            "\n",
            "Epoch 5: LearningRateScheduler setting learning rate to 0.0019674192513600007.\n",
            "Epoch 5/20\n",
            "2340/2340 [==============================] - 19s 8ms/step - loss: 0.2195 - accuracy: 0.9251 - val_loss: 0.2244 - val_accuracy: 0.9272 - lr: 0.0020\n",
            "\n",
            "Epoch 6: LearningRateScheduler setting learning rate to 0.0013103012214057605.\n",
            "Epoch 6/20\n",
            "2340/2340 [==============================] - 19s 8ms/step - loss: 0.1950 - accuracy: 0.9321 - val_loss: 0.2197 - val_accuracy: 0.9307 - lr: 0.0013\n",
            "\n",
            "Epoch 7: LearningRateScheduler setting learning rate to 0.0008726606134562365.\n",
            "Epoch 7/20\n",
            "2340/2340 [==============================] - 18s 8ms/step - loss: 0.1795 - accuracy: 0.9362 - val_loss: 0.2157 - val_accuracy: 0.9325 - lr: 8.7266e-04\n",
            "\n",
            "Epoch 8: LearningRateScheduler setting learning rate to 0.0005811919685618535.\n",
            "Epoch 8/20\n",
            "2340/2340 [==============================] - 18s 8ms/step - loss: 0.1681 - accuracy: 0.9405 - val_loss: 0.2139 - val_accuracy: 0.9329 - lr: 5.8119e-04\n",
            "\n",
            "Epoch 9: LearningRateScheduler setting learning rate to 0.0003870738510621945.\n",
            "Epoch 9/20\n",
            "2340/2340 [==============================] - 18s 8ms/step - loss: 0.1605 - accuracy: 0.9418 - val_loss: 0.2154 - val_accuracy: 0.9328 - lr: 3.8707e-04\n",
            "\n",
            "Epoch 10: LearningRateScheduler setting learning rate to 0.00025779118480742154.\n",
            "Epoch 10/20\n",
            "2340/2340 [==============================] - 19s 8ms/step - loss: 0.1570 - accuracy: 0.9433 - val_loss: 0.2129 - val_accuracy: 0.9336 - lr: 2.5779e-04\n",
            "\n",
            "Epoch 11: LearningRateScheduler setting learning rate to 0.00017168892908174275.\n",
            "Epoch 11/20\n",
            "2340/2340 [==============================] - 19s 8ms/step - loss: 0.1524 - accuracy: 0.9448 - val_loss: 0.2139 - val_accuracy: 0.9336 - lr: 1.7169e-04\n",
            "\n",
            "Epoch 12: LearningRateScheduler setting learning rate to 0.00011434482676844068.\n",
            "Epoch 12/20\n",
            "2340/2340 [==============================] - 18s 8ms/step - loss: 0.1507 - accuracy: 0.9453 - val_loss: 0.2129 - val_accuracy: 0.9338 - lr: 1.1434e-04\n",
            "\n",
            "Epoch 13: LearningRateScheduler setting learning rate to 7.61536546277815e-05.\n",
            "Epoch 13/20\n",
            "2340/2340 [==============================] - 18s 8ms/step - loss: 0.1510 - accuracy: 0.9457 - val_loss: 0.2140 - val_accuracy: 0.9340 - lr: 7.6154e-05\n",
            "\n",
            "Epoch 14: LearningRateScheduler setting learning rate to 5.071833398210248e-05.\n",
            "Epoch 14/20\n",
            "2340/2340 [==============================] - 19s 8ms/step - loss: 0.1481 - accuracy: 0.9459 - val_loss: 0.2138 - val_accuracy: 0.9337 - lr: 5.0718e-05\n",
            "\n",
            "Epoch 15: LearningRateScheduler setting learning rate to 3.377841043208025e-05.\n",
            "Epoch 15/20\n",
            "2340/2340 [==============================] - 18s 8ms/step - loss: 0.1474 - accuracy: 0.9457 - val_loss: 0.2133 - val_accuracy: 0.9343 - lr: 3.3778e-05\n",
            "\n",
            "Epoch 16: LearningRateScheduler setting learning rate to 2.249642134776545e-05.\n",
            "Epoch 16/20\n",
            "2340/2340 [==============================] - 18s 8ms/step - loss: 0.1470 - accuracy: 0.9468 - val_loss: 0.2134 - val_accuracy: 0.9338 - lr: 2.2496e-05\n",
            "\n",
            "Epoch 17: LearningRateScheduler setting learning rate to 1.498261661761179e-05.\n",
            "Epoch 17/20\n",
            "2340/2340 [==============================] - 18s 8ms/step - loss: 0.1461 - accuracy: 0.9468 - val_loss: 0.2139 - val_accuracy: 0.9338 - lr: 1.4983e-05\n",
            "\n",
            "Epoch 18: LearningRateScheduler setting learning rate to 9.978422667329454e-06.\n",
            "Epoch 18/20\n",
            "2340/2340 [==============================] - 19s 8ms/step - loss: 0.1450 - accuracy: 0.9467 - val_loss: 0.2136 - val_accuracy: 0.9339 - lr: 9.9784e-06\n",
            "\n",
            "Epoch 19: LearningRateScheduler setting learning rate to 6.645629496441416e-06.\n",
            "Epoch 19/20\n",
            "2340/2340 [==============================] - 19s 8ms/step - loss: 0.1462 - accuracy: 0.9467 - val_loss: 0.2137 - val_accuracy: 0.9341 - lr: 6.6456e-06\n",
            "\n",
            "Epoch 20: LearningRateScheduler setting learning rate to 4.425989244629983e-06.\n",
            "Epoch 20/20\n",
            "2340/2340 [==============================] - 19s 8ms/step - loss: 0.1466 - accuracy: 0.9462 - val_loss: 0.2137 - val_accuracy: 0.9337 - lr: 4.4260e-06\n",
            "Training time 370.3157227039337s\n"
          ]
        },
        {
          "output_type": "display_data",
          "data": {
            "text/plain": [
              "<Figure size 432x288 with 1 Axes>"
            ],
            "image/png": "[encoded data removed]"
          },
          "metadata": {
            "needs_background": "light"
          }
        },
        {
          "output_type": "stream",
          "name": "stdout",
          "text": [
            "650/650 [==============================] - 2s 3ms/step - loss: 0.2163 - accuracy: 0.9327\n",
            "Test accuracy 0.9327\n"
          ]
        }
      ]
    },
    {
      "cell_type": "code",
      "source": [
        "net, history = trainer('byclass', 62, model='bncnn')"
      ],
      "metadata": {
        "colab": {
          "base_uri": "https://localhost:8080/",
          "height": 1000
        },
        "id": "NIGIxzO5yAxU",
        "outputId": "027dcc67-4eeb-45a8-a21b-4c4f6d602b09"
      },
      "execution_count": null,
      "outputs": [
        {
          "output_type": "stream",
          "name": "stderr",
          "text": [
            "INFO:root:Loading dataset = emnist\n",
            "WARNING:root:Please cite the following paper when using or referencing this Extra Keras Dataset:\n",
            "WARNING:root:Cohen, G., Afshar, S., Tapson, J., & van Schaik, A. (2017). EMNIST: an extension of MNIST to handwritten letters. Retrieved from http://arxiv.org/abs/1702.05373\n"
          ]
        },
        {
          "output_type": "stream",
          "name": "stdout",
          "text": [
            "(32, 32, 1)\n",
            "\n",
            "Epoch 1: LearningRateScheduler setting learning rate to 0.01.\n",
            "Epoch 1/20\n",
            "13087/13087 [==============================] - 79s 6ms/step - loss: 0.6081 - accuracy: 0.8006 - val_loss: 0.4575 - val_accuracy: 0.8390 - lr: 0.0100\n",
            "\n",
            "Epoch 2: LearningRateScheduler setting learning rate to 0.00666.\n",
            "Epoch 2/20\n",
            "13087/13087 [==============================] - 76s 6ms/step - loss: 0.4801 - accuracy: 0.8352 - val_loss: 0.4121 - val_accuracy: 0.8549 - lr: 0.0067\n",
            "\n",
            "Epoch 3: LearningRateScheduler setting learning rate to 0.004435560000000001.\n",
            "Epoch 3/20\n",
            "13087/13087 [==============================] - 74s 6ms/step - loss: 0.4386 - accuracy: 0.8468 - val_loss: 0.3909 - val_accuracy: 0.8598 - lr: 0.0044\n",
            "\n",
            "Epoch 4: LearningRateScheduler setting learning rate to 0.0029540829600000007.\n",
            "Epoch 4/20\n",
            "13087/13087 [==============================] - 73s 6ms/step - loss: 0.4126 - accuracy: 0.8544 - val_loss: 0.3851 - val_accuracy: 0.8643 - lr: 0.0030\n",
            "\n",
            "Epoch 5: LearningRateScheduler setting learning rate to 0.0019674192513600007.\n",
            "Epoch 5/20\n",
            "13087/13087 [==============================] - 75s 6ms/step - loss: 0.3954 - accuracy: 0.8586 - val_loss: 0.3753 - val_accuracy: 0.8669 - lr: 0.0020\n",
            "\n",
            "Epoch 6: LearningRateScheduler setting learning rate to 0.0013103012214057605.\n",
            "Epoch 6/20\n",
            "13087/13087 [==============================] - 75s 6ms/step - loss: 0.3815 - accuracy: 0.8619 - val_loss: 0.3733 - val_accuracy: 0.8682 - lr: 0.0013\n",
            "\n",
            "Epoch 7: LearningRateScheduler setting learning rate to 0.0008726606134562365.\n",
            "Epoch 7/20\n",
            "13087/13087 [==============================] - 76s 6ms/step - loss: 0.3723 - accuracy: 0.8642 - val_loss: 0.3738 - val_accuracy: 0.8691 - lr: 8.7266e-04\n",
            "\n",
            "Epoch 8: LearningRateScheduler setting learning rate to 0.0005811919685618535.\n",
            "Epoch 8/20\n",
            "13087/13087 [==============================] - 76s 6ms/step - loss: 0.3680 - accuracy: 0.8654 - val_loss: 0.3715 - val_accuracy: 0.8692 - lr: 5.8119e-04\n",
            "\n",
            "Epoch 9: LearningRateScheduler setting learning rate to 0.0003870738510621945.\n",
            "Epoch 9/20\n",
            "13087/13087 [==============================] - 75s 6ms/step - loss: 0.3647 - accuracy: 0.8662 - val_loss: 0.3699 - val_accuracy: 0.8697 - lr: 3.8707e-04\n",
            "\n",
            "Epoch 10: LearningRateScheduler setting learning rate to 0.00025779118480742154.\n",
            "Epoch 10/20\n",
            "13087/13087 [==============================] - 75s 6ms/step - loss: 0.3620 - accuracy: 0.8669 - val_loss: 0.3708 - val_accuracy: 0.8701 - lr: 2.5779e-04\n",
            "\n",
            "Epoch 11: LearningRateScheduler setting learning rate to 0.00017168892908174275.\n",
            "Epoch 11/20\n",
            "13087/13087 [==============================] - 73s 6ms/step - loss: 0.3599 - accuracy: 0.8678 - val_loss: 0.3697 - val_accuracy: 0.8699 - lr: 1.7169e-04\n",
            "\n",
            "Epoch 12: LearningRateScheduler setting learning rate to 0.00011434482676844068.\n",
            "Epoch 12/20\n",
            "13087/13087 [==============================] - 76s 6ms/step - loss: 0.3575 - accuracy: 0.8683 - val_loss: 0.3705 - val_accuracy: 0.8698 - lr: 1.1434e-04\n",
            "\n",
            "Epoch 13: LearningRateScheduler setting learning rate to 7.61536546277815e-05.\n",
            "Epoch 13/20\n",
            "13087/13087 [==============================] - 75s 6ms/step - loss: 0.3573 - accuracy: 0.8680 - val_loss: 0.3703 - val_accuracy: 0.8700 - lr: 7.6154e-05\n",
            "\n",
            "Epoch 14: LearningRateScheduler setting learning rate to 5.071833398210248e-05.\n",
            "Epoch 14/20\n",
            "13087/13087 [==============================] - 75s 6ms/step - loss: 0.3555 - accuracy: 0.8687 - val_loss: 0.3708 - val_accuracy: 0.8701 - lr: 5.0718e-05\n",
            "\n",
            "Epoch 15: LearningRateScheduler setting learning rate to 3.377841043208025e-05.\n",
            "Epoch 15/20\n",
            "13087/13087 [==============================] - 75s 6ms/step - loss: 0.3564 - accuracy: 0.8684 - val_loss: 0.3708 - val_accuracy: 0.8700 - lr: 3.3778e-05\n",
            "\n",
            "Epoch 16: LearningRateScheduler setting learning rate to 2.249642134776545e-05.\n",
            "Epoch 16/20\n",
            "13087/13087 [==============================] - 76s 6ms/step - loss: 0.3564 - accuracy: 0.8683 - val_loss: 0.3709 - val_accuracy: 0.8700 - lr: 2.2496e-05\n",
            "\n",
            "Epoch 17: LearningRateScheduler setting learning rate to 1.498261661761179e-05.\n",
            "Epoch 17/20\n",
            "13087/13087 [==============================] - 76s 6ms/step - loss: 0.3554 - accuracy: 0.8688 - val_loss: 0.3708 - val_accuracy: 0.8701 - lr: 1.4983e-05\n",
            "\n",
            "Epoch 18: LearningRateScheduler setting learning rate to 9.978422667329454e-06.\n",
            "Epoch 18/20\n",
            "13087/13087 [==============================] - 75s 6ms/step - loss: 0.3552 - accuracy: 0.8687 - val_loss: 0.3708 - val_accuracy: 0.8702 - lr: 9.9784e-06\n",
            "\n",
            "Epoch 19: LearningRateScheduler setting learning rate to 6.645629496441416e-06.\n",
            "Epoch 19/20\n",
            "13087/13087 [==============================] - 75s 6ms/step - loss: 0.3552 - accuracy: 0.8685 - val_loss: 0.3705 - val_accuracy: 0.8701 - lr: 6.6456e-06\n",
            "\n",
            "Epoch 20: LearningRateScheduler setting learning rate to 4.425989244629983e-06.\n",
            "Epoch 20/20\n",
            "13087/13087 [==============================] - 76s 6ms/step - loss: 0.3563 - accuracy: 0.8686 - val_loss: 0.3707 - val_accuracy: 0.8701 - lr: 4.4260e-06\n",
            "Training time 1523.590374469757s\n"
          ]
        },
        {
          "output_type": "display_data",
          "data": {
            "text/plain": [
              "<Figure size 432x288 with 1 Axes>"
            ],
            "image/png": "[encoded data removed]"
          },
          "metadata": {
            "needs_background": "light"
          }
        },
        {
          "output_type": "stream",
          "name": "stdout",
          "text": [
            "3636/3636 [==============================] - 10s 3ms/step - loss: 0.3653 - accuracy: 0.8711\n",
            "Test accuracy 0.8711\n"
          ]
        }
      ]
    },
    {
      "cell_type": "code",
      "source": [
        "net, history = trainer('mnist', 10, model='bncnn')"
      ],
      "metadata": {
        "colab": {
          "base_uri": "https://localhost:8080/",
          "height": 479
        },
        "id": "LmPNEz0MKGXH",
        "outputId": "16bb7cf4-9473-4e2b-99f0-14d7fd259f2c"
      },
      "execution_count": null,
      "outputs": [
        {
          "output_type": "stream",
          "name": "stderr",
          "text": [
            "INFO:root:Loading dataset = emnist\n",
            "WARNING:root:Please cite the following paper when using or referencing this Extra Keras Dataset:\n",
            "WARNING:root:Cohen, G., Afshar, S., Tapson, J., & van Schaik, A. (2017). EMNIST: an extension of MNIST to handwritten letters. Retrieved from http://arxiv.org/abs/1702.05373\n"
          ]
        },
        {
          "output_type": "error",
          "ename": "ValueError",
          "evalue": "ignored",
          "traceback": [
            "\u001b[0;31m---------------------------------------------------------------------------\u001b[0m",
            "\u001b[0;31mValueError\u001b[0m                                Traceback (most recent call last)",
            "\u001b[0;32m<ipython-input-33-3239982698fa>\u001b[0m in \u001b[0;36m<module>\u001b[0;34m()\u001b[0m\n\u001b[0;32m----> 1\u001b[0;31m \u001b[0mnet\u001b[0m\u001b[0;34m,\u001b[0m \u001b[0mhistory\u001b[0m \u001b[0;34m=\u001b[0m \u001b[0mtrainer\u001b[0m\u001b[0;34m(\u001b[0m\u001b[0;34m'mnist'\u001b[0m\u001b[0;34m,\u001b[0m \u001b[0;36m10\u001b[0m\u001b[0;34m,\u001b[0m \u001b[0mmodel\u001b[0m\u001b[0;34m=\u001b[0m\u001b[0;34m'bncnn'\u001b[0m\u001b[0;34m)\u001b[0m\u001b[0;34m\u001b[0m\u001b[0;34m\u001b[0m\u001b[0m\n\u001b[0m",
            "\u001b[0;32m<ipython-input-14-74ce5589222a>\u001b[0m in \u001b[0;36mtrainer\u001b[0;34m(name, n_classes, limit, model)\u001b[0m\n\u001b[1;32m      4\u001b[0m     \u001b[0mnet\u001b[0m \u001b[0;34m=\u001b[0m \u001b[0mLeNet\u001b[0m\u001b[0;34m(\u001b[0m\u001b[0mLENET_INPUT\u001b[0m\u001b[0;34m,\u001b[0m \u001b[0mn_classes\u001b[0m\u001b[0;34m)\u001b[0m\u001b[0;34m\u001b[0m\u001b[0;34m\u001b[0m\u001b[0m\n\u001b[1;32m      5\u001b[0m   \u001b[0;32melif\u001b[0m \u001b[0mmodel\u001b[0m \u001b[0;34m==\u001b[0m \u001b[0;34m'bncnn'\u001b[0m\u001b[0;34m:\u001b[0m\u001b[0;34m\u001b[0m\u001b[0;34m\u001b[0m\u001b[0m\n\u001b[0;32m----> 6\u001b[0;31m     \u001b[0mnet\u001b[0m \u001b[0;34m=\u001b[0m \u001b[0mBNCNN\u001b[0m\u001b[0;34m(\u001b[0m\u001b[0mLENET_INPUT\u001b[0m\u001b[0;34m,\u001b[0m \u001b[0mn_classes\u001b[0m\u001b[0;34m)\u001b[0m\u001b[0;34m\u001b[0m\u001b[0;34m\u001b[0m\u001b[0m\n\u001b[0m\u001b[1;32m      7\u001b[0m \u001b[0;34m\u001b[0m\u001b[0m\n\u001b[1;32m      8\u001b[0m   \u001b[0mt\u001b[0m \u001b[0;34m=\u001b[0m \u001b[0mtime\u001b[0m\u001b[0;34m.\u001b[0m\u001b[0mtime\u001b[0m\u001b[0;34m(\u001b[0m\u001b[0;34m)\u001b[0m\u001b[0;34m\u001b[0m\u001b[0;34m\u001b[0m\u001b[0m\n",
            "\u001b[0;32m<ipython-input-32-701158da1040>\u001b[0m in \u001b[0;36m__init__\u001b[0;34m(self, input_shape, number_of_classes)\u001b[0m\n\u001b[1;32m      7\u001b[0m     \u001b[0mself\u001b[0m\u001b[0;34m.\u001b[0m\u001b[0mmodel\u001b[0m \u001b[0;34m=\u001b[0m \u001b[0mself\u001b[0m\u001b[0;34m.\u001b[0m\u001b[0m_add_conv_block\u001b[0m\u001b[0;34m(\u001b[0m\u001b[0mself\u001b[0m\u001b[0;34m.\u001b[0m\u001b[0mmodel\u001b[0m\u001b[0;34m,\u001b[0m \u001b[0mchannels\u001b[0m\u001b[0;34m[\u001b[0m\u001b[0;36m0\u001b[0m\u001b[0;34m]\u001b[0m\u001b[0;34m,\u001b[0m \u001b[0;36m3\u001b[0m\u001b[0;34m,\u001b[0m \u001b[0minput_shape\u001b[0m\u001b[0;34m=\u001b[0m\u001b[0minput_shape\u001b[0m\u001b[0;34m)\u001b[0m\u001b[0;34m\u001b[0m\u001b[0;34m\u001b[0m\u001b[0m\n\u001b[1;32m      8\u001b[0m     \u001b[0;32mfor\u001b[0m \u001b[0mc\u001b[0m \u001b[0;32min\u001b[0m \u001b[0mchannels\u001b[0m\u001b[0;34m[\u001b[0m\u001b[0;36m1\u001b[0m\u001b[0;34m:\u001b[0m\u001b[0;34m]\u001b[0m\u001b[0;34m:\u001b[0m\u001b[0;34m\u001b[0m\u001b[0;34m\u001b[0m\u001b[0m\n\u001b[0;32m----> 9\u001b[0;31m       \u001b[0mself\u001b[0m\u001b[0;34m.\u001b[0m\u001b[0mmodel\u001b[0m \u001b[0;34m=\u001b[0m \u001b[0mself\u001b[0m\u001b[0;34m.\u001b[0m\u001b[0m_add_conv_block\u001b[0m\u001b[0;34m(\u001b[0m\u001b[0mself\u001b[0m\u001b[0;34m.\u001b[0m\u001b[0mmodel\u001b[0m\u001b[0;34m,\u001b[0m \u001b[0mc\u001b[0m\u001b[0;34m,\u001b[0m \u001b[0;36m3\u001b[0m\u001b[0;34m,\u001b[0m \u001b[0mstrides\u001b[0m\u001b[0;34m=\u001b[0m\u001b[0;36m2\u001b[0m\u001b[0;34m)\u001b[0m\u001b[0;34m\u001b[0m\u001b[0;34m\u001b[0m\u001b[0m\n\u001b[0m\u001b[1;32m     10\u001b[0m     \u001b[0;31m#self.model = self._add_conv_block(self.model, 32, 6, strides=1)\u001b[0m\u001b[0;34m\u001b[0m\u001b[0;34m\u001b[0m\u001b[0;34m\u001b[0m\u001b[0m\n\u001b[1;32m     11\u001b[0m     \u001b[0;31m#self.model.add(layers.Flatten())\u001b[0m\u001b[0;34m\u001b[0m\u001b[0;34m\u001b[0m\u001b[0;34m\u001b[0m\u001b[0m\n",
            "\u001b[0;32m<ipython-input-32-701158da1040>\u001b[0m in \u001b[0;36m_add_conv_block\u001b[0;34m(self, model, filters, ksize, strides, input_shape)\u001b[0m\n\u001b[1;32m     24\u001b[0m       \u001b[0mself\u001b[0m\u001b[0;34m.\u001b[0m\u001b[0mmodel\u001b[0m\u001b[0;34m.\u001b[0m\u001b[0madd\u001b[0m\u001b[0;34m(\u001b[0m\u001b[0mlayers\u001b[0m\u001b[0;34m.\u001b[0m\u001b[0mConv2D\u001b[0m\u001b[0;34m(\u001b[0m\u001b[0mfilters\u001b[0m\u001b[0;34m,\u001b[0m \u001b[0mksize\u001b[0m\u001b[0;34m,\u001b[0m \u001b[0mactivation\u001b[0m\u001b[0;34m=\u001b[0m\u001b[0;34m'relu'\u001b[0m\u001b[0;34m,\u001b[0m \u001b[0mstrides\u001b[0m\u001b[0;34m=\u001b[0m\u001b[0mstrides\u001b[0m\u001b[0;34m,\u001b[0m \u001b[0minput_shape\u001b[0m\u001b[0;34m=\u001b[0m\u001b[0minput_shape\u001b[0m\u001b[0;34m,\u001b[0m \u001b[0muse_bias\u001b[0m\u001b[0;34m=\u001b[0m\u001b[0;32mFalse\u001b[0m\u001b[0;34m)\u001b[0m\u001b[0;34m)\u001b[0m\u001b[0;34m\u001b[0m\u001b[0;34m\u001b[0m\u001b[0m\n\u001b[1;32m     25\u001b[0m     \u001b[0;32melse\u001b[0m\u001b[0;34m:\u001b[0m\u001b[0;34m\u001b[0m\u001b[0;34m\u001b[0m\u001b[0m\n\u001b[0;32m---> 26\u001b[0;31m       \u001b[0mself\u001b[0m\u001b[0;34m.\u001b[0m\u001b[0mmodel\u001b[0m\u001b[0;34m.\u001b[0m\u001b[0madd\u001b[0m\u001b[0;34m(\u001b[0m\u001b[0mlayers\u001b[0m\u001b[0;34m.\u001b[0m\u001b[0mConv2D\u001b[0m\u001b[0;34m(\u001b[0m\u001b[0mfilters\u001b[0m\u001b[0;34m,\u001b[0m \u001b[0mksize\u001b[0m\u001b[0;34m,\u001b[0m \u001b[0mactivation\u001b[0m\u001b[0;34m=\u001b[0m\u001b[0;34m'relu'\u001b[0m\u001b[0;34m,\u001b[0m \u001b[0mstrides\u001b[0m\u001b[0;34m=\u001b[0m\u001b[0mstrides\u001b[0m\u001b[0;34m,\u001b[0m \u001b[0muse_bias\u001b[0m\u001b[0;34m=\u001b[0m\u001b[0;32mFalse\u001b[0m\u001b[0;34m)\u001b[0m\u001b[0;34m)\u001b[0m\u001b[0;34m\u001b[0m\u001b[0;34m\u001b[0m\u001b[0m\n\u001b[0m\u001b[1;32m     27\u001b[0m     \u001b[0mself\u001b[0m\u001b[0;34m.\u001b[0m\u001b[0mmodel\u001b[0m\u001b[0;34m.\u001b[0m\u001b[0madd\u001b[0m\u001b[0;34m(\u001b[0m\u001b[0mlayers\u001b[0m\u001b[0;34m.\u001b[0m\u001b[0mBatchNormalization\u001b[0m\u001b[0;34m(\u001b[0m\u001b[0mcenter\u001b[0m\u001b[0;34m=\u001b[0m\u001b[0;32mTrue\u001b[0m\u001b[0;34m,\u001b[0m \u001b[0mscale\u001b[0m\u001b[0;34m=\u001b[0m\u001b[0;32mFalse\u001b[0m\u001b[0;34m)\u001b[0m\u001b[0;34m)\u001b[0m\u001b[0;34m\u001b[0m\u001b[0;34m\u001b[0m\u001b[0m\n\u001b[1;32m     28\u001b[0m     \u001b[0mself\u001b[0m\u001b[0;34m.\u001b[0m\u001b[0mmodel\u001b[0m\u001b[0;34m.\u001b[0m\u001b[0madd\u001b[0m\u001b[0;34m(\u001b[0m\u001b[0mlayers\u001b[0m\u001b[0;34m.\u001b[0m\u001b[0mActivation\u001b[0m\u001b[0;34m(\u001b[0m\u001b[0;34m'relu'\u001b[0m\u001b[0;34m)\u001b[0m\u001b[0;34m)\u001b[0m\u001b[0;34m\u001b[0m\u001b[0;34m\u001b[0m\u001b[0m\n",
            "\u001b[0;32m/usr/local/lib/python3.7/dist-packages/tensorflow/python/training/tracking/base.py\u001b[0m in \u001b[0;36m_method_wrapper\u001b[0;34m(self, *args, **kwargs)\u001b[0m\n\u001b[1;32m    627\u001b[0m     \u001b[0mself\u001b[0m\u001b[0;34m.\u001b[0m\u001b[0m_self_setattr_tracking\u001b[0m \u001b[0;34m=\u001b[0m \u001b[0;32mFalse\u001b[0m  \u001b[0;31m# pylint: disable=protected-access\u001b[0m\u001b[0;34m\u001b[0m\u001b[0;34m\u001b[0m\u001b[0m\n\u001b[1;32m    628\u001b[0m     \u001b[0;32mtry\u001b[0m\u001b[0;34m:\u001b[0m\u001b[0;34m\u001b[0m\u001b[0;34m\u001b[0m\u001b[0m\n\u001b[0;32m--> 629\u001b[0;31m       \u001b[0mresult\u001b[0m \u001b[0;34m=\u001b[0m \u001b[0mmethod\u001b[0m\u001b[0;34m(\u001b[0m\u001b[0mself\u001b[0m\u001b[0;34m,\u001b[0m \u001b[0;34m*\u001b[0m\u001b[0margs\u001b[0m\u001b[0;34m,\u001b[0m \u001b[0;34m**\u001b[0m\u001b[0mkwargs\u001b[0m\u001b[0;34m)\u001b[0m\u001b[0;34m\u001b[0m\u001b[0;34m\u001b[0m\u001b[0m\n\u001b[0m\u001b[1;32m    630\u001b[0m     \u001b[0;32mfinally\u001b[0m\u001b[0;34m:\u001b[0m\u001b[0;34m\u001b[0m\u001b[0;34m\u001b[0m\u001b[0m\n\u001b[1;32m    631\u001b[0m       \u001b[0mself\u001b[0m\u001b[0;34m.\u001b[0m\u001b[0m_self_setattr_tracking\u001b[0m \u001b[0;34m=\u001b[0m \u001b[0mprevious_value\u001b[0m  \u001b[0;31m# pylint: disable=protected-access\u001b[0m\u001b[0;34m\u001b[0m\u001b[0;34m\u001b[0m\u001b[0m\n",
            "\u001b[0;32m/usr/local/lib/python3.7/dist-packages/keras/utils/traceback_utils.py\u001b[0m in \u001b[0;36merror_handler\u001b[0;34m(*args, **kwargs)\u001b[0m\n\u001b[1;32m     65\u001b[0m     \u001b[0;32mexcept\u001b[0m \u001b[0mException\u001b[0m \u001b[0;32mas\u001b[0m \u001b[0me\u001b[0m\u001b[0;34m:\u001b[0m  \u001b[0;31m# pylint: disable=broad-except\u001b[0m\u001b[0;34m\u001b[0m\u001b[0;34m\u001b[0m\u001b[0m\n\u001b[1;32m     66\u001b[0m       \u001b[0mfiltered_tb\u001b[0m \u001b[0;34m=\u001b[0m \u001b[0m_process_traceback_frames\u001b[0m\u001b[0;34m(\u001b[0m\u001b[0me\u001b[0m\u001b[0;34m.\u001b[0m\u001b[0m__traceback__\u001b[0m\u001b[0;34m)\u001b[0m\u001b[0;34m\u001b[0m\u001b[0;34m\u001b[0m\u001b[0m\n\u001b[0;32m---> 67\u001b[0;31m       \u001b[0;32mraise\u001b[0m \u001b[0me\u001b[0m\u001b[0;34m.\u001b[0m\u001b[0mwith_traceback\u001b[0m\u001b[0;34m(\u001b[0m\u001b[0mfiltered_tb\u001b[0m\u001b[0;34m)\u001b[0m \u001b[0;32mfrom\u001b[0m \u001b[0;32mNone\u001b[0m\u001b[0;34m\u001b[0m\u001b[0;34m\u001b[0m\u001b[0m\n\u001b[0m\u001b[1;32m     68\u001b[0m     \u001b[0;32mfinally\u001b[0m\u001b[0;34m:\u001b[0m\u001b[0;34m\u001b[0m\u001b[0;34m\u001b[0m\u001b[0m\n\u001b[1;32m     69\u001b[0m       \u001b[0;32mdel\u001b[0m \u001b[0mfiltered_tb\u001b[0m\u001b[0;34m\u001b[0m\u001b[0;34m\u001b[0m\u001b[0m\n",
            "\u001b[0;32m/usr/local/lib/python3.7/dist-packages/tensorflow/python/framework/ops.py\u001b[0m in \u001b[0;36m_create_c_op\u001b[0;34m(graph, node_def, inputs, control_inputs, op_def)\u001b[0m\n\u001b[1;32m   2011\u001b[0m   \u001b[0;32mexcept\u001b[0m \u001b[0merrors\u001b[0m\u001b[0;34m.\u001b[0m\u001b[0mInvalidArgumentError\u001b[0m \u001b[0;32mas\u001b[0m \u001b[0me\u001b[0m\u001b[0;34m:\u001b[0m\u001b[0;34m\u001b[0m\u001b[0;34m\u001b[0m\u001b[0m\n\u001b[1;32m   2012\u001b[0m     \u001b[0;31m# Convert to ValueError for backwards compatibility.\u001b[0m\u001b[0;34m\u001b[0m\u001b[0;34m\u001b[0m\u001b[0;34m\u001b[0m\u001b[0m\n\u001b[0;32m-> 2013\u001b[0;31m     \u001b[0;32mraise\u001b[0m \u001b[0mValueError\u001b[0m\u001b[0;34m(\u001b[0m\u001b[0me\u001b[0m\u001b[0;34m.\u001b[0m\u001b[0mmessage\u001b[0m\u001b[0;34m)\u001b[0m\u001b[0;34m\u001b[0m\u001b[0;34m\u001b[0m\u001b[0m\n\u001b[0m\u001b[1;32m   2014\u001b[0m \u001b[0;34m\u001b[0m\u001b[0m\n\u001b[1;32m   2015\u001b[0m   \u001b[0;32mreturn\u001b[0m \u001b[0mc_op\u001b[0m\u001b[0;34m\u001b[0m\u001b[0;34m\u001b[0m\u001b[0m\n",
            "\u001b[0;31mValueError\u001b[0m: Exception encountered when calling layer \"conv2d_37\" (type Conv2D).\n\nNegative dimension size caused by subtracting 3 from 2 for '{{node conv2d_37/Conv2D}} = Conv2D[T=DT_FLOAT, data_format=\"NHWC\", dilations=[1, 1, 1, 1], explicit_paddings=[], padding=\"VALID\", strides=[1, 2, 2, 1], use_cudnn_on_gpu=true](Placeholder, conv2d_37/Conv2D/ReadVariableOp)' with input shapes: [?,2,2,80], [3,3,80,96].\n\nCall arguments received:\n  • inputs=tf.Tensor(shape=(None, 2, 2, 80), dtype=float32)"
          ]
        }
      ]
    },
    {
      "cell_type": "markdown",
      "source": [
        "# Split Données"
      ],
      "metadata": {
        "id": "XGoUFnzVfezc"
      }
    },
    {
      "cell_type": "code",
      "source": [
        "train, test = load_dataset('byclass', True)"
      ],
      "metadata": {
        "colab": {
          "base_uri": "https://localhost:8080/"
        },
        "id": "sFmHmDlNeUxr",
        "outputId": "e2224df3-db4b-445e-8841-c5f8e1d56e74"
      },
      "execution_count": null,
      "outputs": [
        {
          "output_type": "stream",
          "name": "stderr",
          "text": [
            "INFO:root:Loading dataset = emnist\n",
            "WARNING:root:Please cite the following paper when using or referencing this Extra Keras Dataset:\n",
            "WARNING:root:Cohen, G., Afshar, S., Tapson, J., & van Schaik, A. (2017). EMNIST: an extension of MNIST to handwritten letters. Retrieved from http://arxiv.org/abs/1702.05373\n"
          ]
        }
      ]
    },
    {
      "cell_type": "code",
      "source": [
        "labels = list(range(10)) + list (string.ascii_letters)\n",
        "\n",
        "upper = list(string.ascii_uppercase)\n",
        "lower = list(string.ascii_lowercase)\n",
        "\n",
        "pred = [labels[i] for i in train.y]\n",
        "merged = []\n",
        "\n",
        "for y in pred:\n",
        "  if y in range(10) or y in upper:\n",
        "    merged.append(y)\n",
        "  else:\n",
        "    merged.append(upper[lower.index(y)])\n",
        "\n",
        "print(np.unique(merged))\n",
        "\n",
        "\n",
        "numbers = [p for p in merged if p in range(10)]\n",
        "letters = [p for p in merged if p in list(string.ascii_uppercase)]\n",
        "\n",
        "assert len(numbers) + len(letters) == len(pred)\n",
        "print(len(numbers))\n",
        "print(len(letters))"
      ],
      "metadata": {
        "colab": {
          "base_uri": "https://localhost:8080/"
        },
        "id": "9wQ_L4XbimF7",
        "outputId": "ecac6332-fe17-4df1-cbc1-3ede44c3244f"
      },
      "execution_count": null,
      "outputs": [
        {
          "output_type": "stream",
          "name": "stdout",
          "text": [
            "['0' '1' '2' '3' '4' '5' '6' '7' '8' '9' 'A' 'B' 'C' 'D' 'E' 'F' 'G' 'H'\n",
            " 'I' 'J' 'K' 'L' 'M' 'N' 'O' 'P' 'Q' 'R' 'S' 'T' 'U' 'V' 'W' 'X' 'Y' 'Z']\n",
            "18970\n",
            "98643\n"
          ]
        }
      ]
    },
    {
      "cell_type": "code",
      "source": [
        "def plot_subhistogram(data, bins):\n",
        "  data.sort()\n",
        "  bins = np.arange(bins + 1) - 0.5\n",
        "  n, bins, patches = plt.hist(x=data, bins=bins, color='#0504aa', alpha=0.7, rwidth=0.5)\n",
        "  #plt.bar(data)"
      ],
      "metadata": {
        "id": "I4Agjvp9l4CQ"
      },
      "execution_count": null,
      "outputs": []
    },
    {
      "cell_type": "code",
      "source": [
        "u, counts = np.unique(merged, return_counts=True)\n",
        "stats = dict(zip(u, counts))\n",
        "min(stats, key=stats.get)"
      ],
      "metadata": {
        "colab": {
          "base_uri": "https://localhost:8080/",
          "height": 36
        },
        "id": "zS3tFoGEpsEr",
        "outputId": "8ee77c3e-9d5a-4079-8a86-d0482e7a34e5"
      },
      "execution_count": null,
      "outputs": [
        {
          "output_type": "execute_result",
          "data": {
            "text/plain": [
              "'0'"
            ],
            "application/vnd.google.colaboratory.intrinsic+json": {
              "type": "string"
            }
          },
          "metadata": {},
          "execution_count": 139
        }
      ]
    },
    {
      "cell_type": "code",
      "source": [
        "plt.figure(figsize=(15, 5))\n",
        "\n",
        "plt.subplot(1,2,1)\n",
        "plot_subhistogram(numbers, 10)\n",
        "\n",
        "plt.subplot(1,2,2)\n",
        "plot_subhistogram(letters, 26)\n",
        "plt.show()\n",
        "# Set a clean upper y-axis limit.\n",
        "#plt.ylim(ymax=np.ceil(maxfreq / 10) * 10 if maxfreq % 10 else maxfreq + 10)\n",
        "#plt.xticks(test.y, labels)"
      ],
      "metadata": {
        "colab": {
          "base_uri": "https://localhost:8080/",
          "height": 320
        },
        "id": "1XpucUOSgAeE",
        "outputId": "633db787-6769-49f5-bec1-4f80f6e67a0f"
      },
      "execution_count": null,
      "outputs": [
        {
          "output_type": "display_data",
          "data": {
            "text/plain": [
              "<Figure size 1080x360 with 2 Axes>"
            ],
            "image/png": "[encoded data removed]"
          },
          "metadata": {
            "needs_background": "light"
          }
        }
      ]
    },
    {
      "cell_type": "code",
      "source": [
        "train, test = emnist.load_data(type='byclass')\n",
        "train_x, train_y = train\n",
        "test_x, test_y = test"
      ],
      "metadata": {
        "colab": {
          "base_uri": "https://localhost:8080/"
        },
        "id": "rK_l-ma2xiVz",
        "outputId": "502bf7bf-23e9-43a6-af88-531b94c0eef5"
      },
      "execution_count": null,
      "outputs": [
        {
          "output_type": "stream",
          "name": "stderr",
          "text": [
            "INFO:root:Loading dataset = emnist\n",
            "WARNING:root:Please cite the following paper when using or referencing this Extra Keras Dataset:\n",
            "WARNING:root:Cohen, G., Afshar, S., Tapson, J., & van Schaik, A. (2017). EMNIST: an extension of MNIST to handwritten letters. Retrieved from http://arxiv.org/abs/1702.05373\n"
          ]
        }
      ]
    },
    {
      "cell_type": "code",
      "source": [
        "min_occuring_label(merged)"
      ],
      "metadata": {
        "colab": {
          "base_uri": "https://localhost:8080/"
        },
        "id": "PjilkrXWyq1c",
        "outputId": "ccdb7109-da90-4967-ad0d-f90d64d529e2"
      },
      "execution_count": null,
      "outputs": [
        {
          "output_type": "execute_result",
          "data": {
            "text/plain": [
              "('K', 848)"
            ]
          },
          "metadata": {},
          "execution_count": 106
        }
      ]
    },
    {
      "cell_type": "code",
      "source": [
        ""
      ],
      "metadata": {
        "id": "TmkUBYMhyDsb"
      },
      "execution_count": null,
      "outputs": []
    },
    {
      "cell_type": "code",
      "source": [
        "x_kept, y_kept = keep_smallest(train_x, train_y)\n",
        "\n",
        "u, counts = np.unique(y_kept, return_counts=True)\n",
        "dict(zip(u, counts))"
      ],
      "metadata": {
        "colab": {
          "base_uri": "https://localhost:8080/"
        },
        "id": "4kDTQ5Vc3bW6",
        "outputId": "a2a2b67e-82d7-4c06-a9ba-5e881493c340"
      },
      "execution_count": null,
      "outputs": [
        {
          "output_type": "execute_result",
          "data": {
            "text/plain": [
              "{0: 1897,\n",
              " 1: 1897,\n",
              " 2: 1897,\n",
              " 3: 1897,\n",
              " 4: 1897,\n",
              " 5: 1897,\n",
              " 6: 1897,\n",
              " 7: 1897,\n",
              " 8: 1897,\n",
              " 9: 1897,\n",
              " 10: 1897,\n",
              " 11: 1897,\n",
              " 12: 1897,\n",
              " 13: 1897,\n",
              " 14: 1897,\n",
              " 15: 1897,\n",
              " 16: 1897,\n",
              " 17: 1897,\n",
              " 18: 1897,\n",
              " 19: 1897,\n",
              " 20: 1897,\n",
              " 21: 1897,\n",
              " 22: 1897,\n",
              " 23: 1897,\n",
              " 24: 1897,\n",
              " 25: 1897,\n",
              " 26: 1897,\n",
              " 27: 1897,\n",
              " 28: 1897,\n",
              " 29: 1897,\n",
              " 30: 1897,\n",
              " 31: 1897,\n",
              " 32: 1897,\n",
              " 33: 1897,\n",
              " 34: 1897,\n",
              " 35: 1897,\n",
              " 36: 1897,\n",
              " 37: 1897,\n",
              " 38: 1897,\n",
              " 39: 1897,\n",
              " 40: 1897,\n",
              " 41: 1897,\n",
              " 42: 1897,\n",
              " 43: 1897,\n",
              " 44: 1897,\n",
              " 45: 1896,\n",
              " 46: 1897,\n",
              " 47: 1897,\n",
              " 48: 1897,\n",
              " 49: 1897,\n",
              " 50: 1897,\n",
              " 51: 1897,\n",
              " 52: 1897,\n",
              " 53: 1897,\n",
              " 54: 1897,\n",
              " 55: 1897,\n",
              " 56: 1897,\n",
              " 57: 1897,\n",
              " 58: 1897,\n",
              " 59: 1897,\n",
              " 60: 1897,\n",
              " 61: 1897}"
            ]
          },
          "metadata": {},
          "execution_count": 116
        }
      ]
    },
    {
      "cell_type": "markdown",
      "source": [
        "# Tests random"
      ],
      "metadata": {
        "id": "9MlWYqLCxiwF"
      }
    },
    {
      "cell_type": "code",
      "source": [
        "import numpy as np\n",
        "from PIL import Image\n",
        "import matplotlib.pyplot as plt\n",
        "import cv2"
      ],
      "metadata": {
        "id": "hjP7-y-tGqmv"
      },
      "execution_count": null,
      "outputs": []
    },
    {
      "cell_type": "code",
      "source": [
        "img = Image.open('./test.jpg') # image extension *.png,*.jpg\n",
        "new_width  = 28\n",
        "new_height = 28\n",
        "img = img.resize((new_width, new_height))\n",
        "plt.imshow(img)"
      ],
      "metadata": {
        "colab": {
          "base_uri": "https://localhost:8080/",
          "height": 284
        },
        "id": "tDMKngvrU-3m",
        "outputId": "75ae5f21-1c11-41d4-c02e-7015065c29ce"
      },
      "execution_count": null,
      "outputs": [
        {
          "output_type": "execute_result",
          "data": {
            "text/plain": [
              "<matplotlib.image.AxesImage at 0x7ff1f563fb50>"
            ]
          },
          "metadata": {},
          "execution_count": 105
        },
        {
          "output_type": "display_data",
          "data": {
            "text/plain": [
              "<Figure size 432x288 with 1 Axes>"
            ],
            "image/png": "[encoded data removed]"
          },
          "metadata": {
            "needs_background": "light"
          }
        }
      ]
    },
    {
      "cell_type": "code",
      "source": [
        "img = cv2.imread('./test.jpg')\n",
        "img = cv2.cvtColor(img, cv2.COLOR_BGR2RGB)\n",
        "new_width  = 28\n",
        "new_height = 28\n",
        "img = cv2.resize(img, (new_width, new_height))\n",
        "plt.imshow(img)"
      ],
      "metadata": {
        "colab": {
          "base_uri": "https://localhost:8080/",
          "height": 284
        },
        "id": "hMM_XqyeWioJ",
        "outputId": "6d47fb13-d316-4ea7-b257-47a86a1675f2"
      },
      "execution_count": null,
      "outputs": [
        {
          "output_type": "execute_result",
          "data": {
            "text/plain": [
              "<matplotlib.image.AxesImage at 0x7ff1687b0150>"
            ]
          },
          "metadata": {},
          "execution_count": 112
        },
        {
          "output_type": "display_data",
          "data": {
            "text/plain": [
              "<Figure size 432x288 with 1 Axes>"
            ],
            "image/png": "[encoded data removed]"
          },
          "metadata": {
            "needs_background": "light"
          }
        }
      ]
    },
    {
      "cell_type": "code",
      "source": [
        "img = np.zeros((28,28))\n",
        "img = np.expand_dims(img, axis=0)\n",
        "img = np.expand_dims(img, axis=-1)\n",
        "img.shape"
      ],
      "metadata": {
        "colab": {
          "base_uri": "https://localhost:8080/"
        },
        "id": "WeWTm5tBTqY6",
        "outputId": "08abcc2c-1fc0-4b96-df11-1b8da893d783"
      },
      "execution_count": null,
      "outputs": [
        {
          "output_type": "execute_result",
          "data": {
            "text/plain": [
              "(1, 28, 28, 1)"
            ]
          },
          "metadata": {},
          "execution_count": 129
        }
      ]
    },
    {
      "cell_type": "code",
      "source": [
        "import string"
      ],
      "metadata": {
        "id": "gTaXBEU7T5Iq"
      },
      "execution_count": null,
      "outputs": []
    },
    {
      "cell_type": "code",
      "source": [
        "list(range(10))"
      ],
      "metadata": {
        "colab": {
          "base_uri": "https://localhost:8080/"
        },
        "id": "s-DZPnQ6L1NL",
        "outputId": "2304f896-c28f-41a9-f0f9-8df9edff5b5e"
      },
      "execution_count": null,
      "outputs": [
        {
          "output_type": "execute_result",
          "data": {
            "text/plain": [
              "[0, 1, 2, 3, 4, 5, 6, 7, 8, 9]"
            ]
          },
          "metadata": {},
          "execution_count": 2
        }
      ]
    },
    {
      "cell_type": "code",
      "source": [
        "labels = list(range(10)) + list (string.ascii_letters)"
      ],
      "metadata": {
        "id": "xQJClIJaLuuV"
      },
      "execution_count": null,
      "outputs": []
    },
    {
      "cell_type": "code",
      "source": [
        "labels.index('A')"
      ],
      "metadata": {
        "colab": {
          "base_uri": "https://localhost:8080/"
        },
        "id": "fXrQqY7PL-9P",
        "outputId": "fc1efbdf-50a8-4dc7-ba05-2babc85d39cf"
      },
      "execution_count": null,
      "outputs": [
        {
          "output_type": "execute_result",
          "data": {
            "text/plain": [
              "36"
            ]
          },
          "metadata": {},
          "execution_count": 9
        }
      ]
    },
    {
      "cell_type": "code",
      "source": [
        "labels[15]"
      ],
      "metadata": {
        "colab": {
          "base_uri": "https://localhost:8080/",
          "height": 36
        },
        "id": "2XQRTkWhMDUc",
        "outputId": "4477019e-a0f0-4b35-8141-d4c40468e0ee"
      },
      "execution_count": null,
      "outputs": [
        {
          "output_type": "execute_result",
          "data": {
            "text/plain": [
              "'f'"
            ],
            "application/vnd.google.colaboratory.intrinsic+json": {
              "type": "string"
            }
          },
          "metadata": {},
          "execution_count": 43
        }
      ]
    },
    {
      "cell_type": "code",
      "source": [
        "train, test = load_dataset('mnist')"
      ],
      "metadata": {
        "colab": {
          "base_uri": "https://localhost:8080/"
        },
        "id": "MAcSYdMpMUWz",
        "outputId": "406e4c65-dbbd-49d9-edf7-5854f5b8fbb3"
      },
      "execution_count": null,
      "outputs": [
        {
          "output_type": "stream",
          "name": "stderr",
          "text": [
            "INFO:root:Loading dataset = emnist\n",
            "WARNING:root:Please cite the following paper when using or referencing this Extra Keras Dataset:\n",
            "WARNING:root:Cohen, G., Afshar, S., Tapson, J., & van Schaik, A. (2017). EMNIST: an extension of MNIST to handwritten letters. Retrieved from http://arxiv.org/abs/1702.05373\n"
          ]
        }
      ]
    },
    {
      "cell_type": "code",
      "source": [
        "img = cv2.imread('./A.jpg')\n",
        "img = cv2.cvtColor(img, cv2.COLOR_BGR2GRAY)\n",
        "img = cv2.resize(img, (32, 32))\n",
        "\n",
        "plt.imshow(img)"
      ],
      "metadata": {
        "colab": {
          "base_uri": "https://localhost:8080/",
          "height": 285
        },
        "id": "jhsO43q4RkNR",
        "outputId": "56e5dc6a-f226-4d3e-d6b9-3dd860ba60ae"
      },
      "execution_count": null,
      "outputs": [
        {
          "output_type": "execute_result",
          "data": {
            "text/plain": [
              "<matplotlib.image.AxesImage at 0x7ff919e41a50>"
            ]
          },
          "metadata": {},
          "execution_count": 28
        },
        {
          "output_type": "display_data",
          "data": {
            "text/plain": [
              "<Figure size 432x288 with 1 Axes>"
            ],
            "image/png": "[encoded data removed]"
          },
          "metadata": {
            "needs_background": "light"
          }
        }
      ]
    },
    {
      "cell_type": "code",
      "source": [
        "img = (img - np.min(img)) / (np.max(img) - np.min(img))\n",
        "np.max(img)"
      ],
      "metadata": {
        "colab": {
          "base_uri": "https://localhost:8080/"
        },
        "id": "K4X73jBfRiCj",
        "outputId": "a577d5a3-1e11-466b-ef35-3c6bbccdcb76"
      },
      "execution_count": null,
      "outputs": [
        {
          "output_type": "execute_result",
          "data": {
            "text/plain": [
              "1.0"
            ]
          },
          "metadata": {},
          "execution_count": 39
        }
      ]
    },
    {
      "cell_type": "code",
      "source": [
        "np.min(img)"
      ],
      "metadata": {
        "colab": {
          "base_uri": "https://localhost:8080/"
        },
        "id": "nOZCPVZYVVUJ",
        "outputId": "a97e492a-0ee6-435d-d777-e2158c23a2c2"
      },
      "execution_count": null,
      "outputs": [
        {
          "output_type": "execute_result",
          "data": {
            "text/plain": [
              "0.0"
            ]
          },
          "metadata": {},
          "execution_count": 40
        }
      ]
    },
    {
      "cell_type": "code",
      "source": [
        "a = [1,2,3]\n",
        "a[1:]"
      ],
      "metadata": {
        "id": "jKSrivOpVv1Y",
        "colab": {
          "base_uri": "https://localhost:8080/"
        },
        "outputId": "a5503d80-f95f-4d4d-a779-e035cf506633"
      },
      "execution_count": null,
      "outputs": [
        {
          "output_type": "execute_result",
          "data": {
            "text/plain": [
              "[2, 3]"
            ]
          },
          "metadata": {},
          "execution_count": 3
        }
      ]
    },
    {
      "cell_type": "markdown",
      "source": [
        ""
      ],
      "metadata": {
        "id": "x5R71C11fdVx"
      }
    }
  ]
}